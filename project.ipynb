{
 "cells": [
  {
   "cell_type": "markdown",
   "metadata": {},
   "source": [
    "## Project on Text Processing"
   ]
  },
  {
   "cell_type": "markdown",
   "metadata": {},
   "source": [
    "About data : I have taken 2 datasets,\n",
    "\n",
    "1- Job description data\n",
    "\n",
    "2- Resume data"
   ]
  },
  {
   "cell_type": "markdown",
   "metadata": {},
   "source": [
    "## Working on Job Description data"
   ]
  },
  {
   "cell_type": "code",
   "execution_count": 2,
   "metadata": {},
   "outputs": [],
   "source": [
    "#Importing necessary libarries\n",
    "\n",
    "import numpy as np\n",
    "import pandas as pd\n",
    "import matplotlib.pyplot as plt\n",
    "import nltk\n",
    "from nltk.corpus import stopwords\n",
    "import string\n",
    "from wordcloud import WordCloud\n",
    "import seaborn as sns\n",
    "import re"
   ]
  },
  {
   "cell_type": "code",
   "execution_count": 31,
   "metadata": {},
   "outputs": [],
   "source": [
    "# Job description and resume data strored in my local storage as 'job_Data.csv' and resume_dataset.\n",
    "# Reading the CSV files using pandas\n",
    "\n",
    "job_des = pd.read_csv(\"C:\\\\Users\\\\tharu\\\\OneDrive\\\\Desktop\\\\projets\\\\job_Data.csv\")\n",
    "resume = pd.read_csv(\"C:\\\\Users\\\\tharu\\\\OneDrive\\\\Desktop\\\\projets\\\\Resume_dataSet.csv\", encoding='utf-8')"
   ]
  },
  {
   "cell_type": "code",
   "execution_count": 32,
   "metadata": {},
   "outputs": [
    {
     "data": {
      "text/html": [
       "<div>\n",
       "<style scoped>\n",
       "    .dataframe tbody tr th:only-of-type {\n",
       "        vertical-align: middle;\n",
       "    }\n",
       "\n",
       "    .dataframe tbody tr th {\n",
       "        vertical-align: top;\n",
       "    }\n",
       "\n",
       "    .dataframe thead th {\n",
       "        text-align: right;\n",
       "    }\n",
       "</style>\n",
       "<table border=\"1\" class=\"dataframe\">\n",
       "  <thead>\n",
       "    <tr style=\"text-align: right;\">\n",
       "      <th></th>\n",
       "      <th>Category</th>\n",
       "      <th>Resume</th>\n",
       "    </tr>\n",
       "  </thead>\n",
       "  <tbody>\n",
       "    <tr>\n",
       "      <th>0</th>\n",
       "      <td>Data Science</td>\n",
       "      <td>Skills * Programming Languages: Python (pandas...</td>\n",
       "    </tr>\n",
       "    <tr>\n",
       "      <th>1</th>\n",
       "      <td>Data Science</td>\n",
       "      <td>Education Details \\r\\nMay 2013 to May 2017 B.E...</td>\n",
       "    </tr>\n",
       "    <tr>\n",
       "      <th>2</th>\n",
       "      <td>Data Science</td>\n",
       "      <td>Areas of Interest Deep Learning, Control Syste...</td>\n",
       "    </tr>\n",
       "    <tr>\n",
       "      <th>3</th>\n",
       "      <td>Data Science</td>\n",
       "      <td>Skills â¢ R â¢ Python â¢ SAP HANA â¢ Table...</td>\n",
       "    </tr>\n",
       "    <tr>\n",
       "      <th>4</th>\n",
       "      <td>Data Science</td>\n",
       "      <td>Education Details \\r\\n MCA   YMCAUST,  Faridab...</td>\n",
       "    </tr>\n",
       "  </tbody>\n",
       "</table>\n",
       "</div>"
      ],
      "text/plain": [
       "       Category                                             Resume\n",
       "0  Data Science  Skills * Programming Languages: Python (pandas...\n",
       "1  Data Science  Education Details \\r\\nMay 2013 to May 2017 B.E...\n",
       "2  Data Science  Areas of Interest Deep Learning, Control Syste...\n",
       "3  Data Science  Skills â¢ R â¢ Python â¢ SAP HANA â¢ Table...\n",
       "4  Data Science  Education Details \\r\\n MCA   YMCAUST,  Faridab..."
      ]
     },
     "execution_count": 32,
     "metadata": {},
     "output_type": "execute_result"
    }
   ],
   "source": [
    "resume.head()"
   ]
  },
  {
   "cell_type": "code",
   "execution_count": 33,
   "metadata": {},
   "outputs": [
    {
     "data": {
      "text/html": [
       "<div>\n",
       "<style scoped>\n",
       "    .dataframe tbody tr th:only-of-type {\n",
       "        vertical-align: middle;\n",
       "    }\n",
       "\n",
       "    .dataframe tbody tr th {\n",
       "        vertical-align: top;\n",
       "    }\n",
       "\n",
       "    .dataframe thead th {\n",
       "        text-align: right;\n",
       "    }\n",
       "</style>\n",
       "<table border=\"1\" class=\"dataframe\">\n",
       "  <thead>\n",
       "    <tr style=\"text-align: right;\">\n",
       "      <th></th>\n",
       "      <th>job_ID</th>\n",
       "      <th>designation</th>\n",
       "      <th>company_id</th>\n",
       "      <th>name</th>\n",
       "      <th>work_type</th>\n",
       "      <th>involvement</th>\n",
       "      <th>employees_count</th>\n",
       "      <th>total_applicants</th>\n",
       "      <th>linkedin_followers</th>\n",
       "      <th>job_description</th>\n",
       "      <th>details_id</th>\n",
       "      <th>industry</th>\n",
       "      <th>level</th>\n",
       "      <th>City</th>\n",
       "      <th>State</th>\n",
       "    </tr>\n",
       "  </thead>\n",
       "  <tbody>\n",
       "    <tr>\n",
       "      <th>0</th>\n",
       "      <td>3471657636</td>\n",
       "      <td>Data Science</td>\n",
       "      <td>524</td>\n",
       "      <td>Crossover</td>\n",
       "      <td>Remote</td>\n",
       "      <td>Full-time</td>\n",
       "      <td>1001</td>\n",
       "      <td>200</td>\n",
       "      <td>5.395547e+06</td>\n",
       "      <td>About the job Crossover is the world's #1 sour...</td>\n",
       "      <td>2697</td>\n",
       "      <td>IT Services and IT Consulting</td>\n",
       "      <td>Associate</td>\n",
       "      <td>Delhi</td>\n",
       "      <td>Delhi</td>\n",
       "    </tr>\n",
       "    <tr>\n",
       "      <th>1</th>\n",
       "      <td>3471669068</td>\n",
       "      <td>Data Science</td>\n",
       "      <td>524</td>\n",
       "      <td>Crossover</td>\n",
       "      <td>Remote</td>\n",
       "      <td>Full-time</td>\n",
       "      <td>1001</td>\n",
       "      <td>184</td>\n",
       "      <td>5.395547e+06</td>\n",
       "      <td>About the job Crossover is the world's #1 sour...</td>\n",
       "      <td>2724</td>\n",
       "      <td>IT Services and IT Consulting</td>\n",
       "      <td>Associate</td>\n",
       "      <td>New Delhi</td>\n",
       "      <td>Delhi</td>\n",
       "    </tr>\n",
       "    <tr>\n",
       "      <th>2</th>\n",
       "      <td>3474349934</td>\n",
       "      <td>Data Science</td>\n",
       "      <td>2242</td>\n",
       "      <td>Uplers</td>\n",
       "      <td>Remote</td>\n",
       "      <td>Full-time</td>\n",
       "      <td>1001</td>\n",
       "      <td>200</td>\n",
       "      <td>9.821152e+05</td>\n",
       "      <td>About the job Profile: ML EngineersExperience:...</td>\n",
       "      <td>3668</td>\n",
       "      <td>IT Services and IT Consulting</td>\n",
       "      <td>Mid-Senior level</td>\n",
       "      <td>Greater Bengaluru Area</td>\n",
       "      <td>Karnataka</td>\n",
       "    </tr>\n",
       "    <tr>\n",
       "      <th>3</th>\n",
       "      <td>3472816027</td>\n",
       "      <td>Data Science</td>\n",
       "      <td>1553</td>\n",
       "      <td>PVAR SERVICES</td>\n",
       "      <td>On-site</td>\n",
       "      <td>Full-time</td>\n",
       "      <td>1</td>\n",
       "      <td>200</td>\n",
       "      <td>2.094000e+03</td>\n",
       "      <td>About the job Designation: Data ScienceLocatio...</td>\n",
       "      <td>3083</td>\n",
       "      <td>Not Avilable</td>\n",
       "      <td>Not Avilable</td>\n",
       "      <td>Gurugram</td>\n",
       "      <td>Haryana</td>\n",
       "    </tr>\n",
       "    <tr>\n",
       "      <th>4</th>\n",
       "      <td>3473311511</td>\n",
       "      <td>Data Science</td>\n",
       "      <td>2147</td>\n",
       "      <td>Timeline Freight Brokers</td>\n",
       "      <td>On-site</td>\n",
       "      <td>Full-time</td>\n",
       "      <td>1</td>\n",
       "      <td>8</td>\n",
       "      <td>9.821152e+05</td>\n",
       "      <td>About the job The ideal candidate will use the...</td>\n",
       "      <td>3359</td>\n",
       "      <td>Not Avilable</td>\n",
       "      <td>Not Avilable</td>\n",
       "      <td>Mohali district</td>\n",
       "      <td>North West</td>\n",
       "    </tr>\n",
       "  </tbody>\n",
       "</table>\n",
       "</div>"
      ],
      "text/plain": [
       "       job_ID   designation  company_id                      name work_type  \\\n",
       "0  3471657636  Data Science         524                 Crossover    Remote   \n",
       "1  3471669068  Data Science         524                 Crossover    Remote   \n",
       "2  3474349934  Data Science        2242                    Uplers    Remote   \n",
       "3  3472816027  Data Science        1553             PVAR SERVICES   On-site   \n",
       "4  3473311511  Data Science        2147  Timeline Freight Brokers   On-site   \n",
       "\n",
       "  involvement  employees_count  total_applicants  linkedin_followers  \\\n",
       "0   Full-time             1001               200        5.395547e+06   \n",
       "1   Full-time             1001               184        5.395547e+06   \n",
       "2   Full-time             1001               200        9.821152e+05   \n",
       "3   Full-time                1               200        2.094000e+03   \n",
       "4   Full-time                1                 8        9.821152e+05   \n",
       "\n",
       "                                     job_description  details_id  \\\n",
       "0  About the job Crossover is the world's #1 sour...        2697   \n",
       "1  About the job Crossover is the world's #1 sour...        2724   \n",
       "2  About the job Profile: ML EngineersExperience:...        3668   \n",
       "3  About the job Designation: Data ScienceLocatio...        3083   \n",
       "4  About the job The ideal candidate will use the...        3359   \n",
       "\n",
       "                         industry              level                    City  \\\n",
       "0   IT Services and IT Consulting          Associate                   Delhi   \n",
       "1   IT Services and IT Consulting          Associate               New Delhi   \n",
       "2   IT Services and IT Consulting   Mid-Senior level  Greater Bengaluru Area   \n",
       "3                    Not Avilable       Not Avilable                Gurugram   \n",
       "4                    Not Avilable       Not Avilable         Mohali district   \n",
       "\n",
       "        State  \n",
       "0       Delhi  \n",
       "1       Delhi  \n",
       "2   Karnataka  \n",
       "3     Haryana  \n",
       "4  North West  "
      ]
     },
     "execution_count": 33,
     "metadata": {},
     "output_type": "execute_result"
    }
   ],
   "source": [
    "job_des.head()"
   ]
  },
  {
   "cell_type": "code",
   "execution_count": 34,
   "metadata": {},
   "outputs": [
    {
     "name": "stdout",
     "output_type": "stream",
     "text": [
      "Shape of the job data -------->  (100, 15)\n",
      "Shape of the resume data -------->  (161, 2)\n"
     ]
    }
   ],
   "source": [
    "# Checking shapes the data\n",
    "print(\"Shape of the job data --------> \", job_des.shape)\n",
    "print(\"Shape of the resume data --------> \", resume.shape)\n"
   ]
  },
  {
   "cell_type": "code",
   "execution_count": 35,
   "metadata": {},
   "outputs": [],
   "source": [
    "# Dropping the unnecessary columns in job description\n",
    "\n",
    "job_des.drop(['job_ID', 'work_type', 'involvement', 'company_id', 'name', 'employees_count', 'total_applicants', \n",
    "             'linkedin_followers', 'details_id', 'industry', 'level','City', 'State' ], axis=1, inplace= True)"
   ]
  },
  {
   "cell_type": "code",
   "execution_count": 36,
   "metadata": {},
   "outputs": [
    {
     "data": {
      "text/html": [
       "<div>\n",
       "<style scoped>\n",
       "    .dataframe tbody tr th:only-of-type {\n",
       "        vertical-align: middle;\n",
       "    }\n",
       "\n",
       "    .dataframe tbody tr th {\n",
       "        vertical-align: top;\n",
       "    }\n",
       "\n",
       "    .dataframe thead th {\n",
       "        text-align: right;\n",
       "    }\n",
       "</style>\n",
       "<table border=\"1\" class=\"dataframe\">\n",
       "  <thead>\n",
       "    <tr style=\"text-align: right;\">\n",
       "      <th></th>\n",
       "      <th>designation</th>\n",
       "      <th>job_description</th>\n",
       "    </tr>\n",
       "  </thead>\n",
       "  <tbody>\n",
       "    <tr>\n",
       "      <th>0</th>\n",
       "      <td>Data Science</td>\n",
       "      <td>About the job Crossover is the world's #1 sour...</td>\n",
       "    </tr>\n",
       "    <tr>\n",
       "      <th>1</th>\n",
       "      <td>Data Science</td>\n",
       "      <td>About the job Crossover is the world's #1 sour...</td>\n",
       "    </tr>\n",
       "    <tr>\n",
       "      <th>2</th>\n",
       "      <td>Data Science</td>\n",
       "      <td>About the job Profile: ML EngineersExperience:...</td>\n",
       "    </tr>\n",
       "    <tr>\n",
       "      <th>3</th>\n",
       "      <td>Data Science</td>\n",
       "      <td>About the job Designation: Data ScienceLocatio...</td>\n",
       "    </tr>\n",
       "    <tr>\n",
       "      <th>4</th>\n",
       "      <td>Data Science</td>\n",
       "      <td>About the job The ideal candidate will use the...</td>\n",
       "    </tr>\n",
       "  </tbody>\n",
       "</table>\n",
       "</div>"
      ],
      "text/plain": [
       "    designation                                    job_description\n",
       "0  Data Science  About the job Crossover is the world's #1 sour...\n",
       "1  Data Science  About the job Crossover is the world's #1 sour...\n",
       "2  Data Science  About the job Profile: ML EngineersExperience:...\n",
       "3  Data Science  About the job Designation: Data ScienceLocatio...\n",
       "4  Data Science  About the job The ideal candidate will use the..."
      ]
     },
     "execution_count": 36,
     "metadata": {},
     "output_type": "execute_result"
    }
   ],
   "source": [
    "job_des.head()"
   ]
  },
  {
   "cell_type": "code",
   "execution_count": 38,
   "metadata": {},
   "outputs": [],
   "source": [
    "# For the 'job_description' and Resume columns we are doing the text cleaning\n",
    "# By removing URLs, RT,cc, hashtags,mentions, punctuations, whitespaces.\n",
    "\n",
    "def cleanJob(JobText):\n",
    "    JobText = re.sub('httpS+s*', ' ', JobText)  # remove URLs\n",
    "    JobText = re.sub('RT|cc', ' ', JobText)  # remove RT and cc\n",
    "    JobText = re.sub('#S+', '', JobText)  # remove hashtags\n",
    "    JobText = re.sub('@S+', '  ', JobText)  # remove mentions\n",
    "    JobText = re.sub('[%s]' % re.escape(\"\"\"!\"#$%&'()*+,-./:;<=>?@[]^_`{|}~\"\"\"), ' ', JobText)  # remove punctuations\n",
    "    JobText = re.sub(r'[^x00-x7f]',r' ', JobText)\n",
    "    JobText = re.sub('s+', ' ', JobText)  # remove extra whitespace\n",
    "    return JobText\n",
    "job_des['Cleaned_Job_Text'] = job_des.job_description.apply(lambda x: cleanJob(x))\n",
    "\n",
    "\n",
    "import re\n",
    "def cleanResume(resumeText):\n",
    "    resumeText = re.sub('httpS+s*', ' ', resumeText)  # remove URLs\n",
    "    resumeText = re.sub('RT|cc', ' ', resumeText)  # remove RT and cc\n",
    "    resumeText = re.sub('#S+', '', resumeText)  # remove hashtags\n",
    "    resumeText = re.sub('@S+', '  ', resumeText)  # remove mentions\n",
    "    resumeText = re.sub('[%s]' % re.escape(\"\"\"!\"#$%&'()*+,-./:;<=>?@[]^_`{|}~\"\"\"), ' ', resumeText)  # remove punctuations\n",
    "    resumeText = re.sub(r'[^x00-x7f]',r' ', resumeText) \n",
    "    resumeText = re.sub('s+', ' ', resumeText)  # remove extra whitespace\n",
    "    return resumeText\n",
    "resume['Cleaned_Resume'] = resume.Resume.apply(lambda x: cleanResume(x))\n"
   ]
  },
  {
   "cell_type": "code",
   "execution_count": 39,
   "metadata": {},
   "outputs": [],
   "source": [
    "# Saving the both cleaned datasets\n",
    "job_des.to_csv(\"New_job_des.csv\", index= False)\n",
    "resume.to_csv(\"New_resume.csv\", index= False)"
   ]
  },
  {
   "cell_type": "code",
   "execution_count": 40,
   "metadata": {},
   "outputs": [],
   "source": [
    "# Reading the bothe new datasets\n",
    "\n",
    "new_job_des = pd.read_csv(\"C:\\\\Users\\\\tharu\\\\OneDrive\\\\Documents\\\\VS Code file\\\\New_Projects\\\\New_job_des.csv\")\n",
    "new_resume = pd.read_csv(\"C:\\\\Users\\\\tharu\\\\OneDrive\\\\Documents\\\\VS Code file\\\\New_Projects\\\\New_resume.csv\")"
   ]
  },
  {
   "cell_type": "code",
   "execution_count": 41,
   "metadata": {},
   "outputs": [
    {
     "data": {
      "text/plain": [
       "Data Science            29\n",
       "Other Developer         19\n",
       "Other                    9\n",
       "Salesforce Developer     8\n",
       "Database Developer       4\n",
       "Cloud Engineer           4\n",
       "SQL Developer            3\n",
       "Python Developer         3\n",
       "Java Developer           3\n",
       ".Net Developers          2\n",
       "Shopify Developer        2\n",
       "Software Engineer        2\n",
       "Angular Developer        2\n",
       "PHP Developer            1\n",
       "Other Engineering        1\n",
       "Lead developer           1\n",
       "PowerApps Developer      1\n",
       "Golang Developer         1\n",
       "Snowflake Developer      1\n",
       "Oracle Developer         1\n",
       "DevOps Engineer          1\n",
       "Software Testing         1\n",
       "Internships              1\n",
       "Name: designation, dtype: int64"
      ]
     },
     "execution_count": 41,
     "metadata": {},
     "output_type": "execute_result"
    }
   ],
   "source": [
    "# Checking the count of designations in the jobs dataset\n",
    "\n",
    "desg = new_job_des[\"designation\"].value_counts()\n",
    "desg"
   ]
  },
  {
   "cell_type": "code",
   "execution_count": 42,
   "metadata": {},
   "outputs": [
    {
     "data": {
      "text/plain": [
       "<AxesSubplot: >"
      ]
     },
     "execution_count": 42,
     "metadata": {},
     "output_type": "execute_result"
    },
    {
     "data": {
      "image/png": "[encoded data removed]",
      "text/plain": [
       "<Figure size 500x800 with 1 Axes>"
      ]
     },
     "metadata": {},
     "output_type": "display_data"
    }
   ],
   "source": [
    "# Visualizing the designations \n",
    "plt.figure(figsize=(5,8))\n",
    "plt.xticks(rotation=90)\n",
    "sns.barplot(x= desg.values, y= desg.index, data= new_job_des, palette= \"bright\")"
   ]
  },
  {
   "cell_type": "code",
   "execution_count": 43,
   "metadata": {},
   "outputs": [
    {
     "data": {
      "text/plain": [
       "Sales                        9\n",
       "Business Analyst             9\n",
       "Advocate                     8\n",
       "Arts                         8\n",
       "Java Developer               8\n",
       "Automation Testing           7\n",
       "Database                     7\n",
       "Mechanical Engineer          7\n",
       "Health and fitness           7\n",
       "Civil Engineer               7\n",
       "SAP Developer                7\n",
       "Electrical Engineering       7\n",
       "Python Developer             6\n",
       "Network Security Engineer    6\n",
       "DevOps Engineer              6\n",
       "Data Science                 6\n",
       "Operations Manager           6\n",
       "HR                           6\n",
       "Web Designing                6\n",
       "PMO                          5\n",
       "ETL Developer                5\n",
       "DotNet Developer             5\n",
       "Blockchain                   5\n",
       "Hadoop                       4\n",
       "Testing                      4\n",
       "Name: Category, dtype: int64"
      ]
     },
     "execution_count": 43,
     "metadata": {},
     "output_type": "execute_result"
    }
   ],
   "source": [
    "# Counting the category of the resumes\n",
    "\n",
    "cat = new_resume.Category.value_counts()\n",
    "cat"
   ]
  },
  {
   "cell_type": "code",
   "execution_count": 44,
   "metadata": {},
   "outputs": [
    {
     "data": {
      "text/plain": [
       "<AxesSubplot: >"
      ]
     },
     "execution_count": 44,
     "metadata": {},
     "output_type": "execute_result"
    },
    {
     "data": {
      "image/png": "[encoded data removed]",
      "text/plain": [
       "<Figure size 300x800 with 1 Axes>"
      ]
     },
     "metadata": {},
     "output_type": "display_data"
    }
   ],
   "source": [
    "# Visualizing the designations \n",
    "plt.figure(figsize=(3,8))\n",
    "plt.xticks(rotation=90)\n",
    "sns.barplot(x= cat.values, y= cat.index, data= resume, palette= \"bright\")"
   ]
  },
  {
   "cell_type": "code",
   "execution_count": 45,
   "metadata": {},
   "outputs": [
    {
     "name": "stdout",
     "output_type": "stream",
     "text": [
      "Length of the Job dataset: 100 \n",
      " Length of the resume dataset: 161\n"
     ]
    }
   ],
   "source": [
    "print(f\"Length of the Job dataset: {len(new_job_des)}\",'\\n',f\"Length of the resume dataset: {len(new_resume)}\")"
   ]
  },
  {
   "cell_type": "markdown",
   "metadata": {},
   "source": [
    "Converting column into single text"
   ]
  },
  {
   "cell_type": "code",
   "execution_count": 46,
   "metadata": {},
   "outputs": [],
   "source": [
    "# Here by using the length of job_des converting whole column \n",
    "# of Cleaned_Job_Text and cleaned resume into single texts\n",
    "\n",
    "job_text=\" \"\n",
    "for i in range(0,100):\n",
    "    job_text= job_text + new_job_des[\"Cleaned_Job_Text\"][i]\n",
    "\n",
    "res_text=\" \"\n",
    "for i in range(0,161):\n",
    "    res_text= res_text+ new_resume[\"Cleaned_Resume\"][i]"
   ]
  },
  {
   "cell_type": "code",
   "execution_count": 47,
   "metadata": {},
   "outputs": [
    {
     "data": {
      "text/plain": [
       "'About the job Cro o'"
      ]
     },
     "execution_count": 47,
     "metadata": {},
     "output_type": "execute_result"
    }
   ],
   "source": [
    "job_text[1:20]"
   ]
  },
  {
   "cell_type": "code",
   "execution_count": 48,
   "metadata": {},
   "outputs": [
    {
     "data": {
      "text/plain": [
       "'Skill    Programmin'"
      ]
     },
     "execution_count": 48,
     "metadata": {},
     "output_type": "execute_result"
    }
   ],
   "source": [
    "res_text[1:20]"
   ]
  },
  {
   "cell_type": "markdown",
   "metadata": {},
   "source": [
    "### Tokenization"
   ]
  },
  {
   "cell_type": "code",
   "execution_count": 67,
   "metadata": {},
   "outputs": [
    {
     "name": "stdout",
     "output_type": "stream",
     "text": [
      "Length of the tokens --->  27930\n",
      "Length of the tokens --->  78530\n"
     ]
    }
   ],
   "source": [
    "# Using the NLTK library tokenizing the text\n",
    "tokenizer = nltk.WordPunctTokenizer()\n",
    "\n",
    "job_tokens = tokenizer.tokenize(job_text)\n",
    "print(\"Length of the tokens ---> \", len(job_tokens))\n",
    "\n",
    "res_tokens = tokenizer.tokenize(res_text)\n",
    "print(\"Length of the tokens ---> \", len(res_tokens))"
   ]
  },
  {
   "cell_type": "code",
   "execution_count": 90,
   "metadata": {},
   "outputs": [],
   "source": [
    "#For Normalization now we shall make everything lowercase for uniformity\n",
    "#to hold the new lower case words\n",
    "job_words = []\n",
    "# Looping through the tokens and make them lower case\n",
    "for job_word in job_tokens:\n",
    "    job_words.append(job_word.lower())\n",
    "\n",
    "res_words = []\n",
    "for res_word in res_tokens:\n",
    "    res_words.append(res_word.lower())"
   ]
  },
  {
   "cell_type": "code",
   "execution_count": 91,
   "metadata": {},
   "outputs": [
    {
     "name": "stdout",
     "output_type": "stream",
     "text": [
      "Length of the job words : 27930 and Length of the resume words : 78530\n"
     ]
    }
   ],
   "source": [
    "print(f\"Length of the job words : {len(job_words)}\",'and', f\"Length of the resume words : {len(res_words)}\")"
   ]
  },
  {
   "cell_type": "code",
   "execution_count": 92,
   "metadata": {},
   "outputs": [
    {
     "name": "stdout",
     "output_type": "stream",
     "text": [
      "Number of words Lemmatized= 89\n",
      "Number of words not Lemmatized= 27841\n",
      "Number of words Lemmatized= 458\n",
      "Number of words not Lemmatized= 78072\n"
     ]
    }
   ],
   "source": [
    "# Lemmatizing the text\n",
    "from nltk.stem import WordNetLemmatizer \n",
    "wn = WordNetLemmatizer()\n",
    "# for Job text\n",
    "lem_job_words=[]\n",
    "for word in job_words:\n",
    "    word=wn.lemmatize(word)\n",
    "    lem_job_words.append(word)\n",
    "same=0\n",
    "diff=0\n",
    "for i in range(0,27930):\n",
    "    if(lem_job_words[i]==job_words[i]):\n",
    "        same=same+1\n",
    "    elif(lem_job_words[i]!=job_words[i]):\n",
    "        diff=diff+1\n",
    "print('Number of words Lemmatized=', diff)\n",
    "print('Number of words not Lemmatized=', same)\n",
    "\n",
    "\n",
    "# For resume text\n",
    "lem_res_words=[]\n",
    "for word in res_words:\n",
    "    word=wn.lemmatize(word)\n",
    "    lem_res_words.append(word)\n",
    "same=0\n",
    "diff=0\n",
    "for i in range(0,78530):\n",
    "    if(lem_res_words[i]==res_words[i]):\n",
    "        same=same+1\n",
    "    elif(lem_res_words[i]!=res_words[i]):\n",
    "        diff=diff+1\n",
    "print('Number of words Lemmatized=', diff)\n",
    "print('Number of words not Lemmatized=', same)"
   ]
  },
  {
   "cell_type": "code",
   "execution_count": 93,
   "metadata": {},
   "outputs": [
    {
     "data": {
      "text/plain": [
       "['programming', 'language', 'p', 'thon']"
      ]
     },
     "execution_count": 93,
     "metadata": {},
     "output_type": "execute_result"
    }
   ],
   "source": [
    "lem_res_words[1:5]"
   ]
  },
  {
   "cell_type": "code",
   "execution_count": 101,
   "metadata": {},
   "outputs": [
    {
     "name": "stdout",
     "output_type": "stream",
     "text": [
      "Tokens have been saved to job_words.csv\n",
      "Tokens have been saved to res_words.csv\n"
     ]
    }
   ],
   "source": [
    "# Saving the Tokanized data.\n",
    "import csv\n",
    "\n",
    "job_file = \"job_words.csv\"\n",
    "res_file = \"res_words.csv\"\n",
    "\n",
    "with open(job_file, 'w', newline='', encoding='utf-8') as job_csvfile:\n",
    "    csv_writer = csv.writer(job_csvfile)\n",
    "\n",
    "    for row in lem_job_words:\n",
    "        csv_writer.writerow(row)\n",
    "\n",
    "with open(res_file, 'w', newline='', encoding='utf-8') as res_csvfile:\n",
    "    csv_writer = csv.writer(res_csvfile)\n",
    "\n",
    "    for row in lem_res_words:\n",
    "        csv_writer.writerow(row)\n",
    "\n",
    "print(f'Tokens have been saved to {job_file}')\n",
    "print(f'Tokens have been saved to {res_file}')"
   ]
  },
  {
   "cell_type": "markdown",
   "metadata": {},
   "source": [
    "### StopWords removal"
   ]
  },
  {
   "cell_type": "code",
   "execution_count": 105,
   "metadata": {},
   "outputs": [],
   "source": [
    "#Stop words are generally the most common words in a language.\n",
    "# Reading the job tokens\n",
    "job_tok_file = []\n",
    "with open(\"C:\\\\Users\\\\tharu\\\\OneDrive\\\\Documents\\\\VS Code file\\\\New_Projects\\\\job_words.csv\", 'r') as j_csvfile:\n",
    "    j_reader = csv.reader(j_csvfile)\n",
    "    for row in j_reader:\n",
    "        job_tok_file.append(''.join(row))\n",
    "\n",
    "\n",
    "# Reading the resume tokens\n",
    "res_tok_file = []\n",
    "with open(\"C:\\\\Users\\\\tharu\\\\OneDrive\\\\Documents\\\\VS Code file\\\\New_Projects\\\\res_words.csv\", 'r') as r_csvfile:\n",
    "    r_reader = csv.reader(r_csvfile)\n",
    "    for row in r_reader:\n",
    "        res_tok_file.append(''.join(row))\n",
    "\n",
    "\n",
    "#English stop words from nltk.\n",
    "from nltk.corpus import stopwords\n",
    "stop_words = stopwords.words('english')\n",
    "\n",
    "New_job_words = []\n",
    "New_res_words = []\n",
    "\n",
    "#Now we need to remove the stop words from the words variable\n",
    "#Appending to New_job_words all words that are in job_words but not in sw\n",
    "# For Job text\n",
    "for word in job_tok_file:\n",
    "    if word not in stop_words:\n",
    "        New_job_words.append(word)\n",
    "\n",
    "# For Resume text\n",
    "for word in res_tok_file:\n",
    "    if word not in stop_words:\n",
    "        New_res_words.append(word)"
   ]
  },
  {
   "cell_type": "code",
   "execution_count": 108,
   "metadata": {},
   "outputs": [
    {
     "data": {
      "image/png": "[encoded data removed]",
      "text/plain": [
       "<Figure size 500x500 with 1 Axes>"
      ]
     },
     "metadata": {},
     "output_type": "display_data"
    },
    {
     "data": {
      "text/plain": [
       "<AxesSubplot: xlabel='Samples', ylabel='Counts'>"
      ]
     },
     "execution_count": 108,
     "metadata": {},
     "output_type": "execute_result"
    }
   ],
   "source": [
    "#The frequency distribution of the words\n",
    "job_freq_dist = nltk.FreqDist(New_job_words)\n",
    "#Frequency Distribution Plot\n",
    "plt.subplots(figsize=(5,5))\n",
    "job_freq_dist.plot(30)"
   ]
  },
  {
   "cell_type": "code",
   "execution_count": 109,
   "metadata": {},
   "outputs": [
    {
     "data": {
      "image/png": "[encoded data removed]",
      "text/plain": [
       "<Figure size 500x500 with 1 Axes>"
      ]
     },
     "metadata": {},
     "output_type": "display_data"
    },
    {
     "data": {
      "text/plain": [
       "<AxesSubplot: xlabel='Samples', ylabel='Counts'>"
      ]
     },
     "execution_count": 109,
     "metadata": {},
     "output_type": "execute_result"
    }
   ],
   "source": [
    "#The frequency distribution of the words\n",
    "res_freq_dist = nltk.FreqDist(New_res_words)\n",
    "#Frequency Distribution Plot\n",
    "plt.subplots(figsize=(5,5))\n",
    "res_freq_dist.plot(10)"
   ]
  },
  {
   "cell_type": "markdown",
   "metadata": {},
   "source": [
    "## TF-IDF"
   ]
  },
  {
   "cell_type": "markdown",
   "metadata": {},
   "source": [
    "TF-IDF frequency on Job text"
   ]
  },
  {
   "cell_type": "markdown",
   "metadata": {},
   "source": [
    "Vectorizing"
   ]
  },
  {
   "cell_type": "code",
   "execution_count": 111,
   "metadata": {},
   "outputs": [],
   "source": [
    "from sklearn.feature_extraction.text import TfidfVectorizer\n",
    "from sklearn.decomposition import TruncatedSVD\n",
    "from sklearn.metrics.pairwise import linear_kernel\n",
    "\n",
    "vectorizer = TfidfVectorizer(max_features= 100)\n",
    "job_tfidf_matrix = vectorizer.fit_transform(New_job_words)\n",
    "res_tfidf_matrix = vectorizer.fit_transform(New_res_words)"
   ]
  },
  {
   "cell_type": "code",
   "execution_count": 112,
   "metadata": {},
   "outputs": [],
   "source": [
    "# # Reduce dimensionality\n",
    "from sklearn.decomposition import IncrementalPCA\n",
    "from scipy.sparse import csr_matrix\n",
    "\n",
    "tfidf_matrix_job_sparse = csr_matrix(job_tfidf_matrix)\n",
    "tfidf_matrix_resume_sparse = csr_matrix(res_tfidf_matrix)\n",
    "\n",
    "# Incremental PCA\n",
    "inc_pca = IncrementalPCA(n_components= 50)\n",
    "\n",
    "inc_pca.fit(job_tfidf_matrix.toarray())\n",
    "job_tfidf_matrix_reduc = inc_pca.transform(job_tfidf_matrix.toarray())\n",
    "\n",
    "inc_pca.fit(res_tfidf_matrix.toarray())\n",
    "res_tfidf_matrix_reduc = inc_pca.transform(res_tfidf_matrix.toarray())"
   ]
  },
  {
   "cell_type": "markdown",
   "metadata": {},
   "source": [
    "Cosine similarity"
   ]
  },
  {
   "cell_type": "code",
   "execution_count": 113,
   "metadata": {},
   "outputs": [],
   "source": [
    "# # Calculating the Cosins similarity\n",
    "cosine_similarities = linear_kernel(res_tfidf_matrix_reduc, job_tfidf_matrix_reduc)"
   ]
  },
  {
   "cell_type": "code",
   "execution_count": 114,
   "metadata": {},
   "outputs": [
    {
     "name": "stdout",
     "output_type": "stream",
     "text": [
      "Cosine similarity score: [[-0.00887363 -0.00105454 -0.00105454 ... -0.00105454 -0.00105454\n",
      "  -0.00105454]\n",
      " [-0.00630009  0.00071736  0.00071736 ...  0.00071736  0.00071736\n",
      "   0.00071736]\n",
      " [-0.00630009  0.00071736  0.00071736 ...  0.00071736  0.00071736\n",
      "   0.00071736]\n",
      " ...\n",
      " [-0.0072386   0.00107391  0.00107391 ...  0.00107391  0.00107391\n",
      "   0.00107391]\n",
      " [-0.00630009  0.00071736  0.00071736 ...  0.00071736  0.00071736\n",
      "   0.00071736]\n",
      " [-0.00586738 -0.00409877 -0.00409877 ... -0.00409877 -0.00409877\n",
      "  -0.00409877]]\n"
     ]
    }
   ],
   "source": [
    "print(\"Cosine similarity score:\", cosine_similarities)"
   ]
  },
  {
   "cell_type": "code",
   "execution_count": 115,
   "metadata": {},
   "outputs": [],
   "source": [
    "job_indices = pd.Series(job_des.index, index= job_des['job_description'])\n",
    "res_indices = pd.Series(resume.index, index= resume['Resume'])\n"
   ]
  },
  {
   "cell_type": "code",
   "execution_count": 116,
   "metadata": {},
   "outputs": [
    {
     "data": {
      "text/plain": [
       "job_description\n",
       "About the job Crossover is the world's #1 source of full-time remote jobs. Our clients offer top-tier pay for top-tier talent. We're recruiting this role for our client, Trilogy. Have you got what it takes? Are you looking for an entry-level role in the software industry that will give you the skills and exposure to move into any speciality later? We’re looking for curious individuals who love searching for meaningful answers. In this role, you’ll be given a business problem and will scour the internet for possible solutions. The problems will come from every area of our business: operations, finance, hiring, engineering, and more - giving you broad exposure. Not only will you gain knowledge, you’ll receive regular coaching and training from a team of global tech experts and operations professionals. Jumpstart your career with us today! What You Will Be Doing Research a variety of high-priority topics that are critical to the businessEvaluate results against provided evaluation criteria What You Won’t Be Doing Researching the same topics repeatedlyWorking on loosely-scoped research with desired outputs not clearly definedGetting lost chasing tangentially-related solutions; our systems and processes will help you focus your research and optimize your time Data Science Key Responsibilities Provide high-quality research data to support company-wide business decisions Basic Requirements Excellent written and verbal communication skillsBasic financial analysis skillsAbility to work in the US timezone About Trilogy Hundreds of software businesses run on the Trilogy Business Platform. For three decades, Trilogy has been known for 3 things: Relentlessly seeking top talent, Innovating new technology, and incubating new businesses. Our technological innovation is spearheaded by a passion for simple customer-facing designs. Our incubation of new businesses ranges from entirely new moon-shot ideas to rearchitecting existing projects for today's modern cloud-based stack. Trilogy is a place where you can be surrounded with great people, be proud of doing great work, and grow your career by leaps and bounds. There is so much to cover for this exciting role, and space here is limited. Hit the Apply button if you found this interesting and want to learn more. We look forward to meeting you! Working with Crossover This is a full-time (40 hours per week), long-term position. The position is immediately available and requires entering into an independent contractor agreement with Crossover. The compensation level for this role is $30 USD/hour, which equates to $60,000 USD/year assuming 40 hours per week and 50 weeks per year. The payment period is weekly. Consult www.crossover.com/help-and-faqs for more details on this topic. What to expect next: You will receive an email with a link to start your self-paced, online job application.Our hiring platform will guide you through a series of online “screening” assessments to check for basic job fit, job-related skills, and finally a few real-world job-specific assignments. Important! If you do not receive an email from us: First, emails may take up to 15 minutes to send, refresh and check again.Second, check your spam and junk folders for an email from Crossover.com, mark as “Not Spam” since you will receive other emails as well.Third, we will send to whatever email account you indicated on the Apply form - by default, that is the email address you use as your LinkedIn username and it might be different than the one you have already checked.If all else fails, just reset your password by visiting https://www.crossover.com/auth/password-recovery if you already applied using LinkedIn EasyApply. Crossover Job Code: LJ-4718-IN-Delhi-DataAnalyst.004                                                                                                                                                                                                                                                                                                                                                                                                                                                                                                                                                                                                                                                                                                                                                                                                                                                                         0\n",
       "About the job Crossover is the world's #1 source of full-time remote jobs. Our clients offer top-tier pay for top-tier talent. We're recruiting this role for our client, Trilogy. Have you got what it takes? Are you looking for an entry-level role in the software industry that will give you the skills and exposure to move into any speciality later? We’re looking for curious individuals who love searching for meaningful answers. In this role, you’ll be given a business problem and will scour the internet for possible solutions. The problems will come from every area of our business: operations, finance, hiring, engineering, and more - giving you broad exposure. Not only will you gain knowledge, you’ll receive regular coaching and training from a team of global tech experts and operations professionals. Jumpstart your career with us today! What You Will Be Doing Research a variety of high-priority topics that are critical to the businessEvaluate results against provided evaluation criteria What You Won’t Be Doing Researching the same topics repeatedlyWorking on loosely-scoped research with desired outputs not clearly definedGetting lost chasing tangentially-related solutions; our systems and processes will help you focus your research and optimize your time Data Science Key Responsibilities Provide high-quality research data to support company-wide business decisions Basic Requirements Excellent written and verbal communication skillsBasic financial analysis skillsAbility to work in the US timezone About Trilogy Hundreds of software businesses run on the Trilogy Business Platform. For three decades, Trilogy has been known for 3 things: Relentlessly seeking top talent, Innovating new technology, and incubating new businesses. Our technological innovation is spearheaded by a passion for simple customer-facing designs. Our incubation of new businesses ranges from entirely new moon-shot ideas to rearchitecting existing projects for today's modern cloud-based stack. Trilogy is a place where you can be surrounded with great people, be proud of doing great work, and grow your career by leaps and bounds. There is so much to cover for this exciting role, and space here is limited. Hit the Apply button if you found this interesting and want to learn more. We look forward to meeting you! Working with Crossover This is a full-time (40 hours per week), long-term position. The position is immediately available and requires entering into an independent contractor agreement with Crossover. The compensation level for this role is $30 USD/hour, which equates to $60,000 USD/year assuming 40 hours per week and 50 weeks per year. The payment period is weekly. Consult www.crossover.com/help-and-faqs for more details on this topic. What to expect next: You will receive an email with a link to start your self-paced, online job application.Our hiring platform will guide you through a series of online “screening” assessments to check for basic job fit, job-related skills, and finally a few real-world job-specific assignments. Important! If you do not receive an email from us: First, emails may take up to 15 minutes to send, refresh and check again.Second, check your spam and junk folders for an email from Crossover.com, mark as “Not Spam” since you will receive other emails as well.Third, we will send to whatever email account you indicated on the Apply form - by default, that is the email address you use as your LinkedIn username and it might be different than the one you have already checked.If all else fails, just reset your password by visiting https://www.crossover.com/auth/password-recovery if you already applied using LinkedIn EasyApply. Crossover Job Code: LJ-4718-IN-NewDelhi-DataAnalyst.017                                                                                                                                                                                                                                                                                                                                                                                                                                                                                                                                                                                                                                                                                                                                                                                                                                                                      1\n",
       "About the job Profile: ML EngineersExperience: 3+ YearsLocation: Permanent Remote What is Uplers Talent Network?Uplers Talent Network is a place where top talents meet the right opportunities. It is a platform for every candidate looking for a perfect opportunity to work with global companies on a contractual basis. Our talent network is a place for top Indian talents who can benefit from the platform and gain access to global career exposure. With us, you'll get the support, guidance, and opportunities that you need to take your career to the next level. So, if you're ready to embark on the journey of your next challenge, we're ready to be your engine! Contractual PositionA contractual position usually requires you to sign and agree to the terms of a contract before you begin working. This structure can offer a variety of commitments that allow you to refine established skills and create new ones. Uplers Talent Network brings contractual positions with benefits like:✔ Higher pay than industry standards✔ Full-time position✔ Ability to gain different skills in a short period✔ Control over your career Perks of joining Uplers Talent Network:Talent Success Coach: Get connected with a dedicated coach to guide you before, during as well as after your assignments with our clients.Payout: Get paid in global currencies and earn more than industry standards.Opportunity: Work with international companies and get global exposure with exciting projects.Mobility: Work from the comfort of your living room couch or even a breezy beach. How to become a part of our Talent Network?Create your own profile to get selected by our global clientsFill out the application formClear the 3-stage assessment processBecome a Uplers Certified Talent What are we looking for:We are looking for a highly capable machine learning engineer to optimize our machine learning systems. You will be evaluating existing machine learning (ML) processes, performing statistical analysis to resolve data set problems, and enhancing the accuracy of our AI software's predictive automation capabilities. To ensure success as a machine learning engineer, you should demonstrate solid data science knowledge and experience in a related ML role. A first-class machine learning engineer will be someone whose expertise translates into the enhanced performance of predictive automation software. Roles & Responsibilities:To research, modify, and apply data science and data analytics prototypes.To create and construct methods and plans for machine learningEmploying test findings to do statistical analysis and improve modelsTo search the internet for training datasets that are readily availableML systems and models should be trained and retrained as necessaryTo improve and broaden current ML frameworks and librariesTo create machine learning applications in accordance with client or customer needsTo investigate, test, and put into practice appropriate ML tools and algorithms.To evaluate the application cases and problem-solving potential of ML algorithms and rank them according to success likelihoodTo better comprehend data through exploration and visualization, as well as to spot discrepancies in data distribution that might affect a model’s effectiveness when used in practical situations Primary Skills:Data ModellingNatural Language Processing - Word2vec, Sentiment Analysis, Summarization, Gensim, and NLTKUnix & Linux ServersProgramming Languages - C, C++, Python and JavaSpark and Hadoop Requirements:Advanced math and statistics knowledge, particularly in the areas of calculus, linear algebra, and Bayesian statisticsAdvanced degree in math, computer science, statistics or a related fieldA master’s degree in artificial intelligence, deep learning, or a related disciplineStrong teamwork, problem-solving, and analytical skills.Abilities in software engineeringKnowledge of data scienceLanguages for coding and programming, such as Python, Java, C++, C, R, and JavaScriptPractical understanding of ML frameworksPractical familiarity with ML libraries and packagesRecognize software architecture, data modeling, and data structuresUnderstanding of computer architecture Uplift with UplersUplers believe in connecting people. Being a people-first organization, Uplers constantly strives for individuals who won't just keep up, but break new ground. Helping you find what’s next is what we’re all about. It doesn't surprise us that we are growing and becoming one of the most popular companies in the industry. All set to enter the #WorldOfAwesomeness?Hit the Apply button!     2\n",
       "About the job Designation: Data ScienceLocation: GurgaonSalary: 3- 4 LPAWork Hours: 9:30 am - 6:30 pmQualification: Graduation/Post GraduationExperience: 1+ Years Company Brief:This Company is a B2B managed marketplace in the textile industry that aims to improve the supply chain from design to delivery. You strive to provide transparency and visibility to customers by controlling the supply chain and tracking fabric processing. Series A funded. Key Responsibilities : 1.Collecting and analyzing large data sets from multiple sources. 2. Cleaning and transforming data to ensure accuracy and consistency. 3. Building and maintaining databases and data systems. 4. Creating visualizations and reports to effectively communicate findings and insights to stakeholders. 5. Using statistical models and machine learning techniques to identify patterns and trends in data. 6. Providing recommendations based on data analysis to support decision-making. 7. Collaborating with cross-functional teams and stakeholders to understand business requirements and develop solutions. 8. Staying up-to-date with new data analysis tools and technologies. A Data Science should have a strong background in statistics, mathematics, and computer science, as well as proficiency in data analysis tools such as SQL, R, and Python. Additionally, strong analytical and problem-solving skills, as well as excellent communication and collaboration skills, are essential for success in this role.                                                                                                                                                                                                                                                                                                                                                                                                                                                                                                                                                                                                                                                                                                                                                                                                                                                                                                                                                                                                                                                                                                                                                                                                                                                                                                                                                                                                                                                                                                                                                                                                                                                                                                                                                                                                                                                                                                                                                                                                                                                                                                                                                                                                                                                                                                                                                                                                                                                                                                                                                                                                                                                                                                                                                                                                                                                                                                                                                                                                                                                                                                                                                                                                                                 3\n",
       "About the job The ideal candidate will use their passion for big data and analytics to provide insights to the business covering a range of topics. They will be responsible for conducting both recurring and ad hoc analysis for business users. Responsibilities• Use statistical methods to analyze data and generate useful business reports• Work with management team to create a prioritized list of needs for each business segment• Identify and recommend new ways to save money by streamlining business processes• Use data to create models that depict trends in the customer base and the consumer population as a whole• Work with departmental managers to outline the specific data needs for each business method analysis project QualificationsBachelor's or Master's degree in Statistics or Applied Mathematics or equivalent experience1 - 2 years' Data Analysis experienceProficient in SQL Job Types: Fresher, Full-time, Regular / Permanent Schedule:• Evening shift• Night shift Ability to commute/relocate:• Mohali, Mohali - 160055, Punjab: Reliably commute or planning to relocate before starting work.                                                                                                                                                                                                                                                                                                                                                                                                                                                                                                                                                                                                                                                                                                                                                                                                                                                                                                                                                                                                                                                                                                                                                                                                                                                                                                                                                                                                                                                                                                                                                                                                                                                                                                                                                                                                                                                                                                                                                                                                                                                                                                                                                                                                                                                                                                                                                                                                                                                                                                                                                                                                                                                                                                                                                                                                                                                                                                                                                                                                                                                                                                                                                                                                                                                                                                                                                                                                                                                                                                                                                                                                                    4\n",
       "                                                                                                                                                                                                                                                                                                                                                                                                                                                                                                                                                                                                                                                                                                                                                                                                                                                                                                                                                                                                                                                                                                                                                                                                                                                                                                                                                                                                                                                                                                                                                                                                                                                                                                                                                                                                                                                                                                                                                                                                                                                                                                                                                                                                                                                                                                                                                                                                                                                                                                                                                                                                                                                                                                                                                                                                                                                                                                                                                                                                                                                                                                                                                                                                                                                                                                                                                                                                                                                                                                                                                                                                                                                                                                                                                                                                                                                                                                                                                                                                                                                                                                                                                                                                                                                                                                                                                                                                                                                                                                                                                                                                                                                                                                                                                                ..\n",
       "About the job Profile: Cloud EngineerExperience: 3+ YearsLocation: Permanent Remote What is Uplers Talent Network? Uplers Talent Network is a place where top talents meet the right opportunities. It is a platform for every candidate looking for a perfect opportunity to work with global companies on a contractual basis. Our talent network is a place for top Indian talents who can benefit from the platform and gain access to global career exposure. With us, you'll get the support, guidance, and opportunities that you need to take your career to the next level. So, if you're ready to embark on the journey of your next challenge, we're ready to be your engine! Contractual PositionA contractual position usually requires you to sign and agree to the terms of a contract before you begin working. This structure can offer a variety of commitments that allow you to refine established skills and create new ones. Uplers Talent Network brings contractual positions with benefits like:✔ Higher pay than industry standards✔ Full-time position✔ Ability to gain different skills in a short period✔ Control over your career Perks of joining Uplers Talent Network:Talent Success Coach: Get connected with a dedicated coach to guide you before, during as well as after your assignments with our clients.Payout: Get paid in global currencies and earn more than industry standards.Opportunity: Work with international companies and get global exposure with exciting projects.Mobility: Work from the comfort of your living room couch or even a breezy beach. How to become a part of our Talent Network?Take the first step, register on our portalClear the decks and fill out the application formGear up, clear the 3-stage assessment processAnd yes! Become a part of Uplers Certified Talent Network Requirement:Degree in computer science or a similar field.At least 3 years of experience in the field of cloud computing.Experience with CI/CD systems.Experience with SysOps.Strong in Cloud servicesAzure, AWS, and GCP certifications are preferred.Troubleshooting and analytical skills.Good communication and collaboration skills.Strong experience in architecting, designing, developing, and implementing cloud solutions on AWS platforms or other cloud server such as Azure, Google CloudUnderstanding of and experience with the five pillars of a well-architected frameworkExperience in several of the following areas: database architecture, ETL, business intelligence, big data, machine learning, and advanced analytics is good to haveProven ability to collaborate with multidisciplinary teams of business analysts, developers, data scientists, and subject-matter experts Uplift with UplersUplers believes in connecting people. Being a people-first organization, Uplers constantly strives for individuals who won't just keep up, but break new ground. Helping you find what’s next is what we’re all about. It doesn't surprise us that we are growing and becoming one of the most popular companies in the industry. All set to enter the #WorldOfAwesomeness? Hit the Apply button!                                                                                                                                                                                                                                                                                                                                                                                                                                                                                                                                                                                                                                                                                                                                                                                                                                                                                                                                                                                                                                                                                                                                                                                                                                                                                                                                                                                                                                                                                                                                                                           95\n",
       "About the job Profile: Cloud EngineerExperience: 3+ YearsLocation: Permanent Remote What is Uplers Talent Network? Uplers Talent Network is a place where top talents meet the right opportunities. It is a platform for every candidate looking for a perfect opportunity to work with global companies on a contractual basis. Our talent network is a place for top Indian talents who can benefit from the platform and gain access to global career exposure. With us, you'll get the support, guidance, and opportunities that you need to take your career to the next level. So, if you're ready to embark on the journey of your next challenge, we're ready to be your engine! Contractual PositionA contractual position usually requires you to sign and agree to the terms of a contract before you begin working. This structure can offer a variety of commitments that allow you to refine established skills and create new ones. Uplers Talent Network brings contractual positions with benefits like:✔ Higher pay than industry standards✔ Full-time position✔ Ability to gain different skills in a short period✔ Control over your career Perks of joining Uplers Talent Network:Talent Success Coach: Get connected with a dedicated coach to guide you before, during as well as after your assignments with our clients.Payout: Get paid in global currencies and earn more than industry standards.Opportunity: Work with international companies and get global exposure with exciting projects.Mobility: Work from the comfort of your living room couch or even a breezy beach. How to become a part of our Talent Network?Take the first step, register on our portalClear the decks and fill out the application formGear up, clear the 3-stage assessment processAnd yes! Become a part of Uplers Certified Talent Network Requirement:Degree in computer science or a similar field.At least 3 years of experience in the field of cloud computing.Experience with CI/CD systems.Experience with SysOps.Strong in Cloud servicesAzure, AWS, and GCP certifications are preferred.Troubleshooting and analytical skills.Good communication and collaboration skills.Strong experience in architecting, designing, developing, and implementing cloud solutions on AWS platforms or other cloud server such as Azure, Google CloudUnderstanding of and experience with the five pillars of a well-architected frameworkExperience in several of the following areas: database architecture, ETL, business intelligence, big data, machine learning, and advanced analytics is good to haveProven ability to collaborate with multidisciplinary teams of business analysts, developers, data scientists, and subject-matter experts Uplift with UplersUplers believes in connecting people. Being a people-first organization, Uplers constantly strives for individuals who won't just keep up, but break new ground. Helping you find what’s next is what we’re all about. It doesn't surprise us that we are growing and becoming one of the most popular companies in the industry. All set to enter the #WorldOfAwesomeness? Hit the Apply button!                                                                                                                                                                                                                                                                                                                                                                                                                                                                                                                                                                                                                                                                                                                                                                                                                                                                                                                                                                                                                                                                                                                                                                                                                                                                                                                                                                                                                                                                                                                                                                           96\n",
       "About the job Profile: Cloud EngineerExperience: 3+ YearsLocation: Permanent Remote What is Uplers Talent Network? Uplers Talent Network is a place where top talents meet the right opportunities. It is a platform for every candidate looking for a perfect opportunity to work with global companies on a contractual basis. Our talent network is a place for top Indian talents who can benefit from the platform and gain access to global career exposure. With us, you'll get the support, guidance, and opportunities that you need to take your career to the next level. So, if you're ready to embark on the journey of your next challenge, we're ready to be your engine! Contractual PositionA contractual position usually requires you to sign and agree to the terms of a contract before you begin working. This structure can offer a variety of commitments that allow you to refine established skills and create new ones. Uplers Talent Network brings contractual positions with benefits like:✔ Higher pay than industry standards✔ Full-time position✔ Ability to gain different skills in a short period✔ Control over your career Perks of joining Uplers Talent Network:Talent Success Coach: Get connected with a dedicated coach to guide you before, during as well as after your assignments with our clients.Payout: Get paid in global currencies and earn more than industry standards.Opportunity: Work with international companies and get global exposure with exciting projects.Mobility: Work from the comfort of your living room couch or even a breezy beach. How to become a part of our Talent Network?Take the first step, register on our portalClear the decks and fill out the application formGear up, clear the 3-stage assessment processAnd yes! Become a part of Uplers Certified Talent Network Requirement:Degree in computer science or a similar field.At least 3 years of experience in the field of cloud computing.Experience with CI/CD systems.Experience with SysOps.Strong in Cloud servicesAzure, AWS, and GCP certifications are preferred.Troubleshooting and analytical skills.Good communication and collaboration skills.Strong experience in architecting, designing, developing, and implementing cloud solutions on AWS platforms or other cloud server such as Azure, Google CloudUnderstanding of and experience with the five pillars of a well-architected frameworkExperience in several of the following areas: database architecture, ETL, business intelligence, big data, machine learning, and advanced analytics is good to haveProven ability to collaborate with multidisciplinary teams of business analysts, developers, data scientists, and subject-matter experts Uplift with UplersUplers believes in connecting people. Being a people-first organization, Uplers constantly strives for individuals who won't just keep up, but break new ground. Helping you find what’s next is what we’re all about. It doesn't surprise us that we are growing and becoming one of the most popular companies in the industry. All set to enter the #WorldOfAwesomeness? Hit the Apply button!                                                                                                                                                                                                                                                                                                                                                                                                                                                                                                                                                                                                                                                                                                                                                                                                                                                                                                                                                                                                                                                                                                                                                                                                                                                                                                                                                                                                                                                                                                                                                                           97\n",
       "About the job Role: VAX /VMS Lead roleLocation: Chennai , Bangalore , Hyderabad , Mumbai , Pune & GurgaonNotice Period: Immediate to 60 days. Skill Set: VAX /VMS Job Description:Must to have strong hands on skills on programming and building new code using VAX VMS COBOL, BASIC, DCL , DTR for min. 5 yearsMust to have strong hands on skills on analyzing existing codes in VAX VMS COBOL, BASIC, DCL , DTR and making changes appropriately per design requirements for min. 5 yearsMust to have strong hands on skills using VMS CMS tools for min. 5 yearsNice to have good hands on skills for CDD Screen GEN, MMS for min. 2 yearsNice to have good knowledge on ACMS routines and triaging the ACMS calls for min. 2 yearsMust have strong knowledge on VMS DB2 SQL RDB and VSAM file structures creation and accessing in programs for min. 5 yearsMust have basic knowledge on HealthCare Payer knowledge. AHM 250 500 Certification is a boostMust have Good Communication in interacting with Clients.Nice to have Analytical skills getting intelligence out of data from big data in any DB. Pls share your updated resume to mohamedabubakkars@virtusa.com                                                                                                                                                                                                                                                                                                                                                                                                                                                                                                                                                                                                                                                                                                                                                                                                                                                                                                                                                                                                                                                                                                                                                                                                                                                                                                                                                                                                                                                                                                                                                                                                                                                                                                                                                                                                                                                                                                                                                                                                                                                                                                                                                                                                                                                                                                                                                                                                                                                                                                                                                                                                                                                                                                                                                                                                                                                                                                                                                                                                                                                                                                                                                                                                                                                                                                                                                                                                                                                                                                                                                                                 98\n",
       "About the job Training+Internship description: Greetings from Teachnook collaboration with IIT Bhubaneswar(wissenaire) At Teachnook, we offer students a structure of learning that helps them gain all the prerequisites needed to excel in a field of their choosing. Official Website:-http://www.teachnook.com/ Briefing about the program: First Month (Training)- You will be getting live lectures from the MNC certified mentors and everything will be covered from scratch to the advanced level. Second Month (Internship)-2 Real time Live Industrial Projects. Minor (7 days), Major (21 days).Under the guidance of MNC certified mentors. Certifications: 1) Course Completion Certificate from IIT BHUBANESWAR 2)Internship Completion Certificate from MNC companies 3) Letter Of Recommendation for Job reference (based on your performance) Domain: • Nanoscience/Nanotechnologv • Genetic Engineering • Data Analysis with python • Deep Learning with Tensor flow • Web development • Machine Learning with python • Artificial Intelligence with python • Data Science with python • Cyber Security • Microsoft Azure Cloud Computing • Android App Development • Amazon Web Services • UNUX • AR/VR • Autocad • Marketing management • Digital Marketing • Finance • Stock Marketing • Human Resource (HR) • Internet of Things • Robotics • Embedded System • Hybrid Electric Vehicle Training fees structure: There are two mode of class 1) mentor live class 2) blended class live class 5000 blended class 4000 You can pre-register yourself by filling a form by paying Rs1000 and the remaining amount you can pay within 10 days. Grab this opportunity immediately as the seats are very limited!! CONTACT: Naveen Sr.Academic Counsellor +91 9019922454 naveen.jtnint0767@teachnook.com                                                                                                                                                                                                                                                                                                                                                                                                                                                                                                                                                                                                                                                                                                                                                                                                                                                                                                                                                                                                                                                                                                                                                                                                                                                                                                                                                                                                                                                                                                                                                                                                                                                                                                                                                                                                                                                                                                                                                                                                                                                                                                                                                                                                                                                                                                                                                                                                                                                                                                                                                                                                                                                                                                                                                                                                                                                                                                                                      99\n",
       "Length: 100, dtype: int64"
      ]
     },
     "execution_count": 116,
     "metadata": {},
     "output_type": "execute_result"
    }
   ],
   "source": [
    "job_indices"
   ]
  },
  {
   "cell_type": "code",
   "execution_count": 118,
   "metadata": {},
   "outputs": [
    {
     "name": "stdout",
     "output_type": "stream",
     "text": [
      "Skill Similarity: 0.6446583712203041\n"
     ]
    }
   ],
   "source": [
    "from sklearn.feature_extraction.text import CountVectorizer\n",
    "from sklearn.metrics.pairwise import cosine_similarity\n",
    "\n",
    "# Example job description and resume\n",
    "job_description = \"We are looking for a data scientist with expertise in statistical analysis and machine learning.\"\n",
    "resume = \"Experienced data scientist proficient in statistical analysis and machine learning techniques.\"\n",
    "\n",
    "# Tokenize and create vectors for job description and resume\n",
    "vectorizer = CountVectorizer()\n",
    "job_vector = vectorizer.fit_transform([job_description, resume])\n",
    "\n",
    "# Calculate cosine similarity\n",
    "similarity_matrix = cosine_similarity(job_vector)\n",
    "\n",
    "# Extract similarity score\n",
    "skill_similarity = similarity_matrix[0, 1]\n",
    "\n",
    "print(\"Skill Similarity:\", skill_similarity)\n"
   ]
  },
  {
   "cell_type": "code",
   "execution_count": 119,
   "metadata": {},
   "outputs": [
    {
     "name": "stdout",
     "output_type": "stream",
     "text": [
      "\n",
      "Top 2 Resumes for Job Description 1:\n",
      "1. No valid resume found for index 14588\n",
      "2. No valid resume found for index 8919\n",
      "\n",
      "Top 2 Resumes for Job Description 2:\n",
      "1. No valid resume found for index 19563\n",
      "2. No valid resume found for index 5556\n",
      "\n",
      "Top 2 Resumes for Job Description 3:\n",
      "1. No valid resume found for index 19563\n",
      "2. No valid resume found for index 5556\n",
      "\n",
      "Top 2 Resumes for Job Description 4:\n",
      "1. No valid resume found for index 19563\n",
      "2. No valid resume found for index 5556\n",
      "\n",
      "Top 2 Resumes for Job Description 5:\n",
      "1. No valid resume found for index 1938\n",
      "2. No valid resume found for index 5159\n",
      "\n",
      "Top 2 Resumes for Job Description 6:\n",
      "1. No valid resume found for index 19563\n",
      "2. No valid resume found for index 5556\n",
      "\n",
      "Top 2 Resumes for Job Description 7:\n",
      "1. No valid resume found for index 19563\n",
      "2. No valid resume found for index 5556\n",
      "\n",
      "Top 2 Resumes for Job Description 8:\n",
      "1. No valid resume found for index 19563\n",
      "2. No valid resume found for index 5556\n",
      "\n",
      "Top 2 Resumes for Job Description 9:\n",
      "1. No valid resume found for index 19563\n",
      "2. No valid resume found for index 5556\n",
      "\n",
      "Top 2 Resumes for Job Description 10:\n",
      "1. No valid resume found for index 19563\n",
      "2. No valid resume found for index 5556\n",
      "\n",
      "Top 2 Resumes for Job Description 11:\n",
      "1. No valid resume found for index 19563\n",
      "2. No valid resume found for index 5556\n",
      "\n",
      "Top 2 Resumes for Job Description 12:\n",
      "1. No valid resume found for index 754\n",
      "2. No valid resume found for index 3170\n",
      "\n",
      "Top 2 Resumes for Job Description 13:\n",
      "1. No valid resume found for index 14396\n",
      "2. No valid resume found for index 1915\n",
      "\n",
      "Top 2 Resumes for Job Description 14:\n",
      "1. No valid resume found for index 19563\n",
      "2. No valid resume found for index 5556\n",
      "\n",
      "Top 2 Resumes for Job Description 15:\n",
      "1. No valid resume found for index 19563\n",
      "2. No valid resume found for index 5556\n",
      "\n",
      "Top 2 Resumes for Job Description 16:\n",
      "1. No valid resume found for index 19563\n",
      "2. No valid resume found for index 5556\n",
      "\n",
      "Top 2 Resumes for Job Description 17:\n",
      "1. No valid resume found for index 19563\n",
      "2. No valid resume found for index 5556\n",
      "\n",
      "Top 2 Resumes for Job Description 18:\n",
      "1. No valid resume found for index 19563\n",
      "2. No valid resume found for index 5556\n",
      "\n",
      "Top 2 Resumes for Job Description 19:\n",
      "1. No valid resume found for index 7274\n",
      "2. Resume Set 49, Resume 49: i\n",
      "\n",
      "Top 2 Resumes for Job Description 20:\n",
      "1. No valid resume found for index 19563\n",
      "2. No valid resume found for index 5556\n",
      "\n",
      "Top 2 Resumes for Job Description 21:\n",
      "1. No valid resume found for index 19563\n",
      "2. No valid resume found for index 5556\n",
      "\n",
      "Top 2 Resumes for Job Description 22:\n",
      "1. No valid resume found for index 19298\n",
      "2. No valid resume found for index 196\n",
      "\n",
      "Top 2 Resumes for Job Description 23:\n",
      "1. No valid resume found for index 19563\n",
      "2. No valid resume found for index 5556\n",
      "\n",
      "Top 2 Resumes for Job Description 24:\n",
      "1. No valid resume found for index 19563\n",
      "2. No valid resume found for index 5556\n",
      "\n",
      "Top 2 Resumes for Job Description 25:\n",
      "1. No valid resume found for index 19563\n",
      "2. No valid resume found for index 5556\n",
      "\n",
      "Top 2 Resumes for Job Description 26:\n",
      "1. No valid resume found for index 19563\n",
      "2. No valid resume found for index 5556\n",
      "\n",
      "Top 2 Resumes for Job Description 27:\n",
      "1. No valid resume found for index 19563\n",
      "2. No valid resume found for index 5556\n",
      "\n",
      "Top 2 Resumes for Job Description 28:\n",
      "1. No valid resume found for index 7274\n",
      "2. Resume Set 49, Resume 49: i\n",
      "\n",
      "Top 2 Resumes for Job Description 29:\n",
      "1. No valid resume found for index 19563\n",
      "2. No valid resume found for index 5556\n",
      "\n",
      "Top 2 Resumes for Job Description 30:\n",
      "1. No valid resume found for index 19563\n",
      "2. No valid resume found for index 5556\n",
      "\n",
      "Top 2 Resumes for Job Description 31:\n",
      "1. No valid resume found for index 8406\n",
      "2. No valid resume found for index 16381\n",
      "\n",
      "Top 2 Resumes for Job Description 32:\n",
      "1. No valid resume found for index 19563\n",
      "2. No valid resume found for index 5556\n",
      "\n",
      "Top 2 Resumes for Job Description 33:\n",
      "1. No valid resume found for index 19563\n",
      "2. No valid resume found for index 5556\n",
      "\n",
      "Top 2 Resumes for Job Description 34:\n",
      "1. No valid resume found for index 19563\n",
      "2. No valid resume found for index 5556\n",
      "\n",
      "Top 2 Resumes for Job Description 35:\n",
      "1. No valid resume found for index 16266\n",
      "2. No valid resume found for index 5463\n",
      "\n",
      "Top 2 Resumes for Job Description 36:\n",
      "1. No valid resume found for index 19563\n",
      "2. No valid resume found for index 5556\n",
      "\n",
      "Top 2 Resumes for Job Description 37:\n",
      "1. No valid resume found for index 19563\n",
      "2. No valid resume found for index 5556\n",
      "\n",
      "Top 2 Resumes for Job Description 38:\n",
      "1. No valid resume found for index 19563\n",
      "2. No valid resume found for index 5556\n",
      "\n",
      "Top 2 Resumes for Job Description 39:\n",
      "1. No valid resume found for index 16266\n",
      "2. No valid resume found for index 5463\n",
      "\n",
      "Top 2 Resumes for Job Description 40:\n",
      "1. No valid resume found for index 19563\n",
      "2. No valid resume found for index 5556\n",
      "\n",
      "Top 2 Resumes for Job Description 41:\n",
      "1. No valid resume found for index 19563\n",
      "2. No valid resume found for index 5556\n",
      "\n",
      "Top 2 Resumes for Job Description 42:\n",
      "1. No valid resume found for index 15929\n",
      "2. No valid resume found for index 13923\n",
      "\n",
      "Top 2 Resumes for Job Description 43:\n",
      "1. No valid resume found for index 2191\n",
      "2. No valid resume found for index 18254\n",
      "\n",
      "Top 2 Resumes for Job Description 44:\n",
      "1. No valid resume found for index 19563\n",
      "2. No valid resume found for index 5556\n",
      "\n",
      "Top 2 Resumes for Job Description 45:\n",
      "1. No valid resume found for index 19563\n",
      "2. No valid resume found for index 5556\n",
      "\n",
      "Top 2 Resumes for Job Description 46:\n",
      "1. No valid resume found for index 19563\n",
      "2. No valid resume found for index 5556\n",
      "\n",
      "Top 2 Resumes for Job Description 47:\n",
      "1. No valid resume found for index 19563\n",
      "2. No valid resume found for index 5556\n",
      "\n",
      "Top 2 Resumes for Job Description 48:\n",
      "1. No valid resume found for index 19563\n",
      "2. No valid resume found for index 5556\n",
      "\n",
      "Top 2 Resumes for Job Description 49:\n",
      "1. No valid resume found for index 19563\n",
      "2. No valid resume found for index 5556\n",
      "\n",
      "Top 2 Resumes for Job Description 50:\n",
      "1. No valid resume found for index 19563\n",
      "2. No valid resume found for index 5556\n",
      "\n",
      "Top 2 Resumes for Job Description 51:\n",
      "1. No valid resume found for index 19563\n",
      "2. No valid resume found for index 5556\n",
      "\n",
      "Top 2 Resumes for Job Description 52:\n",
      "1. No valid resume found for index 19563\n",
      "2. No valid resume found for index 5556\n",
      "\n",
      "Top 2 Resumes for Job Description 53:\n",
      "1. No valid resume found for index 19563\n",
      "2. No valid resume found for index 5556\n",
      "\n",
      "Top 2 Resumes for Job Description 54:\n",
      "1. No valid resume found for index 10025\n",
      "2. No valid resume found for index 7966\n",
      "\n",
      "Top 2 Resumes for Job Description 55:\n",
      "1. No valid resume found for index 19563\n",
      "2. No valid resume found for index 5556\n",
      "\n",
      "Top 2 Resumes for Job Description 56:\n",
      "1. No valid resume found for index 19563\n",
      "2. No valid resume found for index 5556\n",
      "\n",
      "Top 2 Resumes for Job Description 57:\n",
      "1. No valid resume found for index 19563\n",
      "2. No valid resume found for index 5556\n",
      "\n",
      "Top 2 Resumes for Job Description 58:\n",
      "1. No valid resume found for index 19563\n",
      "2. No valid resume found for index 5556\n",
      "\n",
      "Top 2 Resumes for Job Description 59:\n",
      "1. No valid resume found for index 19563\n",
      "2. No valid resume found for index 5556\n",
      "\n",
      "Top 2 Resumes for Job Description 60:\n",
      "1. No valid resume found for index 19563\n",
      "2. No valid resume found for index 5556\n",
      "\n",
      "Top 2 Resumes for Job Description 61:\n",
      "1. No valid resume found for index 12394\n",
      "2. No valid resume found for index 15266\n",
      "\n",
      "Top 2 Resumes for Job Description 62:\n",
      "1. No valid resume found for index 19563\n",
      "2. No valid resume found for index 5556\n",
      "\n",
      "Top 2 Resumes for Job Description 63:\n",
      "1. No valid resume found for index 19563\n",
      "2. No valid resume found for index 5556\n",
      "\n",
      "Top 2 Resumes for Job Description 64:\n",
      "1. No valid resume found for index 19563\n",
      "2. No valid resume found for index 5556\n",
      "\n",
      "Top 2 Resumes for Job Description 65:\n",
      "1. No valid resume found for index 19563\n",
      "2. No valid resume found for index 5556\n",
      "\n",
      "Top 2 Resumes for Job Description 66:\n",
      "1. No valid resume found for index 19563\n",
      "2. No valid resume found for index 5556\n",
      "\n",
      "Top 2 Resumes for Job Description 67:\n",
      "1. No valid resume found for index 19563\n",
      "2. No valid resume found for index 5556\n",
      "\n",
      "Top 2 Resumes for Job Description 68:\n",
      "1. No valid resume found for index 19563\n",
      "2. No valid resume found for index 5556\n",
      "\n",
      "Top 2 Resumes for Job Description 69:\n",
      "1. No valid resume found for index 19563\n",
      "2. No valid resume found for index 5556\n",
      "\n",
      "Top 2 Resumes for Job Description 70:\n",
      "1. No valid resume found for index 19563\n",
      "2. No valid resume found for index 5556\n",
      "\n",
      "Top 2 Resumes for Job Description 71:\n",
      "1. No valid resume found for index 19563\n",
      "2. No valid resume found for index 5556\n",
      "\n",
      "Top 2 Resumes for Job Description 72:\n",
      "1. No valid resume found for index 19563\n",
      "2. No valid resume found for index 5556\n",
      "\n",
      "Top 2 Resumes for Job Description 73:\n",
      "1. No valid resume found for index 19563\n",
      "2. No valid resume found for index 5556\n",
      "\n",
      "Top 2 Resumes for Job Description 74:\n",
      "1. No valid resume found for index 19563\n",
      "2. No valid resume found for index 5556\n",
      "\n",
      "Top 2 Resumes for Job Description 75:\n",
      "1. No valid resume found for index 19563\n",
      "2. No valid resume found for index 5556\n",
      "\n",
      "Top 2 Resumes for Job Description 76:\n",
      "1. No valid resume found for index 19563\n",
      "2. No valid resume found for index 5556\n",
      "\n",
      "Top 2 Resumes for Job Description 77:\n",
      "1. No valid resume found for index 19563\n",
      "2. No valid resume found for index 5556\n",
      "\n",
      "Top 2 Resumes for Job Description 78:\n",
      "1. No valid resume found for index 7274\n",
      "2. Resume Set 49, Resume 49: i\n",
      "\n",
      "Top 2 Resumes for Job Description 79:\n",
      "1. No valid resume found for index 19563\n",
      "2. No valid resume found for index 5556\n",
      "\n",
      "Top 2 Resumes for Job Description 80:\n",
      "1. No valid resume found for index 19563\n",
      "2. No valid resume found for index 5556\n",
      "\n",
      "Top 2 Resumes for Job Description 81:\n",
      "1. No valid resume found for index 19563\n",
      "2. No valid resume found for index 5556\n",
      "\n",
      "Top 2 Resumes for Job Description 82:\n",
      "1. No valid resume found for index 19563\n",
      "2. No valid resume found for index 5556\n",
      "\n",
      "Top 2 Resumes for Job Description 83:\n",
      "1. No valid resume found for index 19563\n",
      "2. No valid resume found for index 5556\n",
      "\n",
      "Top 2 Resumes for Job Description 84:\n",
      "1. No valid resume found for index 19563\n",
      "2. No valid resume found for index 5556\n",
      "\n",
      "Top 2 Resumes for Job Description 85:\n",
      "1. No valid resume found for index 19563\n",
      "2. No valid resume found for index 5556\n",
      "\n",
      "Top 2 Resumes for Job Description 86:\n",
      "1. No valid resume found for index 19563\n",
      "2. No valid resume found for index 5556\n",
      "\n",
      "Top 2 Resumes for Job Description 87:\n",
      "1. No valid resume found for index 19563\n",
      "2. No valid resume found for index 5556\n",
      "\n",
      "Top 2 Resumes for Job Description 88:\n",
      "1. No valid resume found for index 1938\n",
      "2. No valid resume found for index 5159\n",
      "\n",
      "Top 2 Resumes for Job Description 89:\n",
      "1. No valid resume found for index 19563\n",
      "2. No valid resume found for index 5556\n",
      "\n",
      "Top 2 Resumes for Job Description 90:\n",
      "1. No valid resume found for index 19563\n",
      "2. No valid resume found for index 5556\n",
      "\n",
      "Top 2 Resumes for Job Description 91:\n",
      "1. No valid resume found for index 19563\n",
      "2. No valid resume found for index 5556\n",
      "\n",
      "Top 2 Resumes for Job Description 92:\n",
      "1. No valid resume found for index 19563\n",
      "2. No valid resume found for index 5556\n",
      "\n",
      "Top 2 Resumes for Job Description 93:\n",
      "1. No valid resume found for index 19563\n",
      "2. No valid resume found for index 5556\n",
      "\n",
      "Top 2 Resumes for Job Description 94:\n",
      "1. No valid resume found for index 19563\n",
      "2. No valid resume found for index 5556\n",
      "\n",
      "Top 2 Resumes for Job Description 95:\n",
      "1. No valid resume found for index 7274\n",
      "2. Resume Set 49, Resume 49: i\n",
      "\n",
      "Top 2 Resumes for Job Description 96:\n",
      "1. No valid resume found for index 19563\n",
      "2. No valid resume found for index 5556\n",
      "\n",
      "Top 2 Resumes for Job Description 97:\n",
      "1. No valid resume found for index 19563\n",
      "2. No valid resume found for index 5556\n",
      "\n",
      "Top 2 Resumes for Job Description 98:\n",
      "1. No valid resume found for index 19563\n",
      "2. No valid resume found for index 5556\n",
      "\n",
      "Top 2 Resumes for Job Description 99:\n",
      "1. No valid resume found for index 19563\n",
      "2. No valid resume found for index 5556\n",
      "\n",
      "Top 2 Resumes for Job Description 100:\n",
      "1. No valid resume found for index 19563\n",
      "2. No valid resume found for index 5556\n"
     ]
    }
   ],
   "source": [
    "from sklearn.metrics.pairwise import linear_kernel\n",
    "\n",
    "# Iterate through each job description\n",
    "for i in range(len(job_des)):\n",
    "    # Compute cosine similarities for the i-th job description\n",
    "    cosine_similarities = linear_kernel(res_tfidf_matrix_reduc[i:i+1], job_tfidf_matrix_reduc).flatten()\n",
    "\n",
    "    # Get the indices of top N resumes\n",
    "    top_resumes_indices = cosine_similarities.argsort()[::-1]\n",
    "\n",
    "    # Number of top resumes to recommend\n",
    "    top_n = 2\n",
    "\n",
    "    # Display the top N resumes for the i-th job description\n",
    "    print(f\"\\nTop {top_n} Resumes for Job Description {i + 1}:\")\n",
    "    for j in range(top_n):\n",
    "        if top_resumes_indices[j] < len(resume):\n",
    "            resume_index = top_resumes_indices[j]\n",
    "            print(f\"{j + 1}. Resume Set {resume_index + 1}, Resume {resume_index + 1}: {resume[resume_index]}\")\n",
    "        else:\n",
    "            print(f\"{j + 1}. No valid resume found for index {top_resumes_indices[j]}\")\n"
   ]
  }
 ],
 "metadata": {
  "kernelspec": {
   "display_name": "Python 3",
   "language": "python",
   "name": "python3"
  },
  "language_info": {
   "codemirror_mode": {
    "name": "ipython",
    "version": 3
   },
   "file_extension": ".py",
   "mimetype": "text/x-python",
   "name": "python",
   "nbconvert_exporter": "python",
   "pygments_lexer": "ipython3",
   "version": "3.10.5"
  }
 },
 "nbformat": 4,
 "nbformat_minor": 2
}
